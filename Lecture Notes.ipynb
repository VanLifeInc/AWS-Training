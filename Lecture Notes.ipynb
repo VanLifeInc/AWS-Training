{
 "cells": [
  {
   "cell_type": "markdown",
   "metadata": {},
   "source": [
    "## Identity Access Management 101"
   ]
  },
  {
   "cell_type": "markdown",
   "metadata": {},
   "source": [
    "- IAM allows you to manage users & level of access to AWS console\n",
    "- Gives you centralized control of your AWS account & shared access\n",
    "- Multifactor Authentication\n",
    "- Identity Federation (AD, Facebook, Linkedin etc...)\n",
    "- Provides temporary access for users/devices and services as necessary\n",
    "- Allows you to setup your own password rotation policy"
   ]
  },
  {
   "cell_type": "markdown",
   "metadata": {},
   "source": [
    "Critical Terms:\n",
    "\n",
    "- Users\n",
    "- Groups (collection of users under one set of permissions)\n",
    "- Roles (you create roles and can then assign them to AWS resources)\n",
    "- Policies (a document that defines one or more permissions)"
   ]
  },
  {
   "cell_type": "markdown",
   "metadata": {},
   "source": [
    "### IAM Lab"
   ]
  },
  {
   "cell_type": "markdown",
   "metadata": {},
   "source": [
    "- The \"root account\" is simply the account created when you first setup your AWS account\n",
    "- It has complete Admin access\n",
    "- New users have NO PERMISSIONS when first created\n",
    "- New users are assigned Access Key ID & Secret Access Keys when first created\n",
    "- These are not the same as a password, and you cannot use the Access key ID & \n",
    "Secret Access key to login to the AWS Management Console\n",
    "- You can however use this to access AWS via the APIs and command line\n",
    "- You only get to view Access key ID & Secret Access Key once. If you lose them, you have to regenerate them. So save them in a secure location\n",
    "- ALWAYS SETUP MULTIFACTOR AUTHENTICATION ON YOUR ROOT ACCOUNT\n",
    "- You can create and customize your own password rotation policies"
   ]
  },
  {
   "cell_type": "code",
   "execution_count": null,
   "metadata": {},
   "outputs": [],
   "source": []
  }
 ],
 "metadata": {
  "kernelspec": {
   "display_name": "Python 3",
   "language": "python",
   "name": "python3"
  },
  "language_info": {
   "codemirror_mode": {
    "name": "ipython",
    "version": 3
   },
   "file_extension": ".py",
   "mimetype": "text/x-python",
   "name": "python",
   "nbconvert_exporter": "python",
   "pygments_lexer": "ipython3",
   "version": "3.5.0"
  }
 },
 "nbformat": 4,
 "nbformat_minor": 2
}
